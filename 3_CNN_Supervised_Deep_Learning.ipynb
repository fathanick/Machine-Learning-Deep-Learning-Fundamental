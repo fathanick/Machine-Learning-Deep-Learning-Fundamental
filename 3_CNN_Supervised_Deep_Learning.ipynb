{
  "nbformat": 4,
  "nbformat_minor": 0,
  "metadata": {
    "colab": {
      "name": "3_CNN_Supervised_Deep_Learning.ipynb",
      "provenance": [],
      "include_colab_link": true
    },
    "kernelspec": {
      "name": "python3",
      "display_name": "Python 3"
    },
    "accelerator": "GPU"
  },
  "cells": [
    {
      "cell_type": "markdown",
      "metadata": {
        "id": "view-in-github",
        "colab_type": "text"
      },
      "source": [
        "<a href=\"https://colab.research.google.com/github/fathanick/Machine-Learning-Deep-Learning-Fundamental/blob/master/3_CNN_Supervised_Deep_Learning.ipynb\" target=\"_parent\"><img src=\"https://colab.research.google.com/assets/colab-badge.svg\" alt=\"Open In Colab\"/></a>"
      ]
    },
    {
      "cell_type": "markdown",
      "metadata": {
        "id": "ItbLtxyt44zH",
        "colab_type": "text"
      },
      "source": [
        "<img src = \"https://i.imgur.com/XoRDxQJ.png\" align = \"center\">"
      ]
    },
    {
      "cell_type": "markdown",
      "metadata": {
        "id": "FW8YBWjy-toQ",
        "colab_type": "text"
      },
      "source": [
        "#Fashion-MNIST Classification with CNN using Keras\n"
      ]
    },
    {
      "cell_type": "markdown",
      "metadata": {
        "id": "rEjOa8IC-_bV",
        "colab_type": "text"
      },
      "source": [
        "## Why Fashion-MNIST?\n",
        "\n",
        "\n",
        "*   MNIST is too easy\n",
        "*   MNIST is overused\n",
        "*   MNIST can not represent modern Computer Vision tasks\n",
        "\n",
        "Read more about the Fashion-MINST dataset in this paper [here](https://arxiv.org/abs/1708.07747) (**Fashion-MNIST: a Novel Image Dataset for Benchmarking Machine Learning Algorithms**)\n"
      ]
    },
    {
      "cell_type": "markdown",
      "metadata": {
        "id": "7JiG3CebBN_f",
        "colab_type": "text"
      },
      "source": [
        "## Dataset Description\n",
        "The Fashion MNIST data set contains 70,000 grayscale images in 10 categories. \n",
        "The images show individual articles of clothing at low resolution (28 by 28 pixels), as seen here:\n",
        "\n",
        "![alt text](https://miro.medium.com/max/840/0*dOOHSSWACxZJ_eIR)"
      ]
    },
    {
      "cell_type": "code",
      "metadata": {
        "id": "nY69T3D2bgje",
        "colab_type": "code",
        "outputId": "8c441a2c-d164-4aea-81a7-c5f98a817e61",
        "colab": {
          "base_uri": "https://localhost:8080/",
          "height": 80
        }
      },
      "source": [
        "import keras\n",
        "from keras.datasets import fashion_mnist \n",
        "from keras.layers import Dense, Conv2D, MaxPooling2D, Activation, Flatten, Dropout\n",
        "from keras.layers.normalization import BatchNormalization\n",
        "from keras.models import Sequential\n",
        "from keras.utils import to_categorical\n",
        "import numpy as np\n",
        "import matplotlib.pyplot as plt"
      ],
      "execution_count": 0,
      "outputs": [
        {
          "output_type": "stream",
          "text": [
            "Using TensorFlow backend.\n"
          ],
          "name": "stderr"
        },
        {
          "output_type": "display_data",
          "data": {
            "text/html": [
              "<p style=\"color: red;\">\n",
              "The default version of TensorFlow in Colab will soon switch to TensorFlow 2.x.<br>\n",
              "We recommend you <a href=\"https://www.tensorflow.org/guide/migrate\" target=\"_blank\">upgrade</a> now \n",
              "or ensure your notebook will continue to use TensorFlow 1.x via the <code>%tensorflow_version 1.x</code> magic:\n",
              "<a href=\"https://colab.research.google.com/notebooks/tensorflow_version.ipynb\" target=\"_blank\">more info</a>.</p>\n"
            ],
            "text/plain": [
              "<IPython.core.display.HTML object>"
            ]
          },
          "metadata": {
            "tags": []
          }
        }
      ]
    },
    {
      "cell_type": "code",
      "metadata": {
        "id": "bzjiKLVyirJ-",
        "colab_type": "code",
        "outputId": "aa771017-0518-4e0d-ee23-ebe7c4ff247f",
        "colab": {
          "base_uri": "https://localhost:8080/",
          "height": 153
        }
      },
      "source": [
        "#download fashion MNIST dataset\n",
        "(X_train,Y_train), (X_test,Y_test) = fashion_mnist.load_data()"
      ],
      "execution_count": 0,
      "outputs": [
        {
          "output_type": "stream",
          "text": [
            "Downloading data from http://fashion-mnist.s3-website.eu-central-1.amazonaws.com/train-labels-idx1-ubyte.gz\n",
            "32768/29515 [=================================] - 0s 4us/step\n",
            "Downloading data from http://fashion-mnist.s3-website.eu-central-1.amazonaws.com/train-images-idx3-ubyte.gz\n",
            "26427392/26421880 [==============================] - 2s 0us/step\n",
            "Downloading data from http://fashion-mnist.s3-website.eu-central-1.amazonaws.com/t10k-labels-idx1-ubyte.gz\n",
            "8192/5148 [===============================================] - 0s 0us/step\n",
            "Downloading data from http://fashion-mnist.s3-website.eu-central-1.amazonaws.com/t10k-images-idx3-ubyte.gz\n",
            "4423680/4422102 [==============================] - 1s 0us/step\n"
          ],
          "name": "stdout"
        }
      ]
    },
    {
      "cell_type": "code",
      "metadata": {
        "id": "lZOMjvnpiuh2",
        "colab_type": "code",
        "outputId": "43332c62-df0a-4636-92fd-a5ebdfe19245",
        "colab": {
          "base_uri": "https://localhost:8080/",
          "height": 34
        }
      },
      "source": [
        "#check image shape\n",
        "X_train.shape"
      ],
      "execution_count": 0,
      "outputs": [
        {
          "output_type": "execute_result",
          "data": {
            "text/plain": [
              "(60000, 28, 28)"
            ]
          },
          "metadata": {
            "tags": []
          },
          "execution_count": 3
        }
      ]
    },
    {
      "cell_type": "code",
      "metadata": {
        "id": "xcqluGbFeU18",
        "colab_type": "code",
        "outputId": "5df07e52-69b1-4df5-bdf6-fad7f8b4801a",
        "colab": {
          "base_uri": "https://localhost:8080/",
          "height": 299
        }
      },
      "source": [
        "# Define the text labels\n",
        "fashion_mnist_labels = [\"T-shirt/top\",  # index 0\n",
        "                        \"Trouser\",      # index 1\n",
        "                        \"Pullover\",     # index 2 \n",
        "                        \"Dress\",        # index 3 \n",
        "                        \"Coat\",         # index 4\n",
        "                        \"Sandal\",       # index 5\n",
        "                        \"Shirt\",        # index 6 \n",
        "                        \"Sneaker\",      # index 7 \n",
        "                        \"Bag\",          # index 8 \n",
        "                        \"Ankle boot\"]   # index 9\n",
        "\n",
        "# Image index, you can pick any number between 0 and 59,999\n",
        "img_index = 10\n",
        "# y_train contains the lables, ranging from 0 to 9\n",
        "label_index = Y_train[img_index]\n",
        "# # Show one of the images from the training dataset\n",
        "plt.imshow(X_train[img_index], cmap='Greys')\n",
        "# Print the label, for example 2 Pullover\n",
        "print(\"y = \" + str(label_index))\n",
        "print(\"Label\" +\":\"+(fashion_mnist_labels[label_index]))"
      ],
      "execution_count": 0,
      "outputs": [
        {
          "output_type": "stream",
          "text": [
            "y = 0\n",
            "Label:T-shirt/top\n"
          ],
          "name": "stdout"
        },
        {
          "output_type": "display_data",
          "data": {
            "image/png": "[encoded data removed]",
            "text/plain": [
              "<Figure size 432x288 with 1 Axes>"
            ]
          },
          "metadata": {
            "tags": []
          }
        }
      ]
    },
    {
      "cell_type": "code",
      "metadata": {
        "id": "MjMl6Rk5F6Bv",
        "colab_type": "code",
        "outputId": "4207b4f9-c971-4b26-c897-00904cafaa10",
        "colab": {
          "base_uri": "https://localhost:8080/",
          "height": 917
        }
      },
      "source": [
        "#See the data in a matrix 28x28\n",
        "import pandas as pd\n",
        "\n",
        "val = X_train[img_index]\n",
        "display(pd.DataFrame(val))"
      ],
      "execution_count": 0,
      "outputs": [
        {
          "output_type": "display_data",
          "data": {
            "text/html": [
              "<div>\n",
              "<style scoped>\n",
              "    .dataframe tbody tr th:only-of-type {\n",
              "        vertical-align: middle;\n",
              "    }\n",
              "\n",
              "    .dataframe tbody tr th {\n",
              "        vertical-align: top;\n",
              "    }\n",
              "\n",
              "    .dataframe thead th {\n",
              "        text-align: right;\n",
              "    }\n",
              "</style>\n",
              "<table border=\"1\" class=\"dataframe\">\n",
              "  <thead>\n",
              "    <tr style=\"text-align: right;\">\n",
              "      <th></th>\n",
              "      <th>0</th>\n",
              "      <th>1</th>\n",
              "      <th>2</th>\n",
              "      <th>3</th>\n",
              "      <th>4</th>\n",
              "      <th>5</th>\n",
              "      <th>6</th>\n",
              "      <th>7</th>\n",
              "      <th>8</th>\n",
              "      <th>9</th>\n",
              "      <th>10</th>\n",
              "      <th>11</th>\n",
              "      <th>12</th>\n",
              "      <th>13</th>\n",
              "      <th>14</th>\n",
              "      <th>15</th>\n",
              "      <th>16</th>\n",
              "      <th>17</th>\n",
              "      <th>18</th>\n",
              "      <th>19</th>\n",
              "      <th>20</th>\n",
              "      <th>21</th>\n",
              "      <th>22</th>\n",
              "      <th>23</th>\n",
              "      <th>24</th>\n",
              "      <th>25</th>\n",
              "      <th>26</th>\n",
              "      <th>27</th>\n",
              "    </tr>\n",
              "  </thead>\n",
              "  <tbody>\n",
              "    <tr>\n",
              "      <th>0</th>\n",
              "      <td>0</td>\n",
              "      <td>0</td>\n",
              "      <td>0</td>\n",
              "      <td>0</td>\n",
              "      <td>0</td>\n",
              "      <td>0</td>\n",
              "      <td>0</td>\n",
              "      <td>11</td>\n",
              "      <td>142</td>\n",
              "      <td>200</td>\n",
              "      <td>106</td>\n",
              "      <td>0</td>\n",
              "      <td>0</td>\n",
              "      <td>0</td>\n",
              "      <td>0</td>\n",
              "      <td>0</td>\n",
              "      <td>0</td>\n",
              "      <td>0</td>\n",
              "      <td>85</td>\n",
              "      <td>185</td>\n",
              "      <td>112</td>\n",
              "      <td>0</td>\n",
              "      <td>0</td>\n",
              "      <td>0</td>\n",
              "      <td>0</td>\n",
              "      <td>0</td>\n",
              "      <td>0</td>\n",
              "      <td>0</td>\n",
              "    </tr>\n",
              "    <tr>\n",
              "      <th>1</th>\n",
              "      <td>0</td>\n",
              "      <td>0</td>\n",
              "      <td>0</td>\n",
              "      <td>0</td>\n",
              "      <td>0</td>\n",
              "      <td>0</td>\n",
              "      <td>152</td>\n",
              "      <td>214</td>\n",
              "      <td>217</td>\n",
              "      <td>194</td>\n",
              "      <td>236</td>\n",
              "      <td>216</td>\n",
              "      <td>187</td>\n",
              "      <td>149</td>\n",
              "      <td>135</td>\n",
              "      <td>153</td>\n",
              "      <td>211</td>\n",
              "      <td>217</td>\n",
              "      <td>231</td>\n",
              "      <td>205</td>\n",
              "      <td>217</td>\n",
              "      <td>188</td>\n",
              "      <td>34</td>\n",
              "      <td>0</td>\n",
              "      <td>0</td>\n",
              "      <td>0</td>\n",
              "      <td>0</td>\n",
              "      <td>0</td>\n",
              "    </tr>\n",
              "    <tr>\n",
              "      <th>2</th>\n",
              "      <td>0</td>\n",
              "      <td>0</td>\n",
              "      <td>0</td>\n",
              "      <td>0</td>\n",
              "      <td>0</td>\n",
              "      <td>66</td>\n",
              "      <td>185</td>\n",
              "      <td>166</td>\n",
              "      <td>180</td>\n",
              "      <td>181</td>\n",
              "      <td>190</td>\n",
              "      <td>211</td>\n",
              "      <td>221</td>\n",
              "      <td>197</td>\n",
              "      <td>146</td>\n",
              "      <td>198</td>\n",
              "      <td>206</td>\n",
              "      <td>191</td>\n",
              "      <td>168</td>\n",
              "      <td>190</td>\n",
              "      <td>172</td>\n",
              "      <td>188</td>\n",
              "      <td>175</td>\n",
              "      <td>0</td>\n",
              "      <td>0</td>\n",
              "      <td>0</td>\n",
              "      <td>0</td>\n",
              "      <td>0</td>\n",
              "    </tr>\n",
              "    <tr>\n",
              "      <th>3</th>\n",
              "      <td>0</td>\n",
              "      <td>0</td>\n",
              "      <td>0</td>\n",
              "      <td>0</td>\n",
              "      <td>0</td>\n",
              "      <td>135</td>\n",
              "      <td>153</td>\n",
              "      <td>160</td>\n",
              "      <td>175</td>\n",
              "      <td>180</td>\n",
              "      <td>170</td>\n",
              "      <td>186</td>\n",
              "      <td>187</td>\n",
              "      <td>190</td>\n",
              "      <td>188</td>\n",
              "      <td>190</td>\n",
              "      <td>187</td>\n",
              "      <td>174</td>\n",
              "      <td>195</td>\n",
              "      <td>185</td>\n",
              "      <td>174</td>\n",
              "      <td>161</td>\n",
              "      <td>175</td>\n",
              "      <td>59</td>\n",
              "      <td>0</td>\n",
              "      <td>0</td>\n",
              "      <td>0</td>\n",
              "      <td>0</td>\n",
              "    </tr>\n",
              "    <tr>\n",
              "      <th>4</th>\n",
              "      <td>0</td>\n",
              "      <td>0</td>\n",
              "      <td>0</td>\n",
              "      <td>0</td>\n",
              "      <td>0</td>\n",
              "      <td>161</td>\n",
              "      <td>147</td>\n",
              "      <td>160</td>\n",
              "      <td>170</td>\n",
              "      <td>178</td>\n",
              "      <td>177</td>\n",
              "      <td>180</td>\n",
              "      <td>168</td>\n",
              "      <td>173</td>\n",
              "      <td>174</td>\n",
              "      <td>171</td>\n",
              "      <td>185</td>\n",
              "      <td>184</td>\n",
              "      <td>185</td>\n",
              "      <td>172</td>\n",
              "      <td>171</td>\n",
              "      <td>164</td>\n",
              "      <td>174</td>\n",
              "      <td>120</td>\n",
              "      <td>0</td>\n",
              "      <td>0</td>\n",
              "      <td>0</td>\n",
              "      <td>0</td>\n",
              "    </tr>\n",
              "    <tr>\n",
              "      <th>5</th>\n",
              "      <td>0</td>\n",
              "      <td>0</td>\n",
              "      <td>0</td>\n",
              "      <td>0</td>\n",
              "      <td>2</td>\n",
              "      <td>175</td>\n",
              "      <td>146</td>\n",
              "      <td>145</td>\n",
              "      <td>168</td>\n",
              "      <td>178</td>\n",
              "      <td>181</td>\n",
              "      <td>185</td>\n",
              "      <td>180</td>\n",
              "      <td>184</td>\n",
              "      <td>178</td>\n",
              "      <td>179</td>\n",
              "      <td>187</td>\n",
              "      <td>191</td>\n",
              "      <td>193</td>\n",
              "      <td>190</td>\n",
              "      <td>181</td>\n",
              "      <td>171</td>\n",
              "      <td>172</td>\n",
              "      <td>158</td>\n",
              "      <td>0</td>\n",
              "      <td>0</td>\n",
              "      <td>0</td>\n",
              "      <td>0</td>\n",
              "    </tr>\n",
              "    <tr>\n",
              "      <th>6</th>\n",
              "      <td>0</td>\n",
              "      <td>0</td>\n",
              "      <td>0</td>\n",
              "      <td>0</td>\n",
              "      <td>35</td>\n",
              "      <td>177</td>\n",
              "      <td>155</td>\n",
              "      <td>140</td>\n",
              "      <td>151</td>\n",
              "      <td>172</td>\n",
              "      <td>191</td>\n",
              "      <td>187</td>\n",
              "      <td>186</td>\n",
              "      <td>187</td>\n",
              "      <td>186</td>\n",
              "      <td>187</td>\n",
              "      <td>182</td>\n",
              "      <td>191</td>\n",
              "      <td>194</td>\n",
              "      <td>188</td>\n",
              "      <td>180</td>\n",
              "      <td>161</td>\n",
              "      <td>161</td>\n",
              "      <td>185</td>\n",
              "      <td>0</td>\n",
              "      <td>0</td>\n",
              "      <td>0</td>\n",
              "      <td>0</td>\n",
              "    </tr>\n",
              "    <tr>\n",
              "      <th>7</th>\n",
              "      <td>0</td>\n",
              "      <td>0</td>\n",
              "      <td>0</td>\n",
              "      <td>0</td>\n",
              "      <td>59</td>\n",
              "      <td>170</td>\n",
              "      <td>153</td>\n",
              "      <td>141</td>\n",
              "      <td>120</td>\n",
              "      <td>154</td>\n",
              "      <td>160</td>\n",
              "      <td>161</td>\n",
              "      <td>172</td>\n",
              "      <td>168</td>\n",
              "      <td>166</td>\n",
              "      <td>161</td>\n",
              "      <td>165</td>\n",
              "      <td>172</td>\n",
              "      <td>170</td>\n",
              "      <td>164</td>\n",
              "      <td>139</td>\n",
              "      <td>149</td>\n",
              "      <td>162</td>\n",
              "      <td>166</td>\n",
              "      <td>21</td>\n",
              "      <td>0</td>\n",
              "      <td>0</td>\n",
              "      <td>0</td>\n",
              "    </tr>\n",
              "    <tr>\n",
              "      <th>8</th>\n",
              "      <td>0</td>\n",
              "      <td>0</td>\n",
              "      <td>0</td>\n",
              "      <td>0</td>\n",
              "      <td>79</td>\n",
              "      <td>145</td>\n",
              "      <td>160</td>\n",
              "      <td>214</td>\n",
              "      <td>123</td>\n",
              "      <td>128</td>\n",
              "      <td>153</td>\n",
              "      <td>160</td>\n",
              "      <td>164</td>\n",
              "      <td>158</td>\n",
              "      <td>157</td>\n",
              "      <td>154</td>\n",
              "      <td>155</td>\n",
              "      <td>170</td>\n",
              "      <td>165</td>\n",
              "      <td>141</td>\n",
              "      <td>195</td>\n",
              "      <td>193</td>\n",
              "      <td>152</td>\n",
              "      <td>166</td>\n",
              "      <td>61</td>\n",
              "      <td>0</td>\n",
              "      <td>0</td>\n",
              "      <td>0</td>\n",
              "    </tr>\n",
              "    <tr>\n",
              "      <th>9</th>\n",
              "      <td>0</td>\n",
              "      <td>0</td>\n",
              "      <td>0</td>\n",
              "      <td>0</td>\n",
              "      <td>100</td>\n",
              "      <td>157</td>\n",
              "      <td>225</td>\n",
              "      <td>245</td>\n",
              "      <td>175</td>\n",
              "      <td>113</td>\n",
              "      <td>174</td>\n",
              "      <td>158</td>\n",
              "      <td>158</td>\n",
              "      <td>160</td>\n",
              "      <td>155</td>\n",
              "      <td>160</td>\n",
              "      <td>164</td>\n",
              "      <td>178</td>\n",
              "      <td>188</td>\n",
              "      <td>135</td>\n",
              "      <td>185</td>\n",
              "      <td>240</td>\n",
              "      <td>201</td>\n",
              "      <td>172</td>\n",
              "      <td>108</td>\n",
              "      <td>0</td>\n",
              "      <td>0</td>\n",
              "      <td>0</td>\n",
              "    </tr>\n",
              "    <tr>\n",
              "      <th>10</th>\n",
              "      <td>0</td>\n",
              "      <td>0</td>\n",
              "      <td>0</td>\n",
              "      <td>0</td>\n",
              "      <td>0</td>\n",
              "      <td>31</td>\n",
              "      <td>174</td>\n",
              "      <td>28</td>\n",
              "      <td>126</td>\n",
              "      <td>153</td>\n",
              "      <td>166</td>\n",
              "      <td>152</td>\n",
              "      <td>158</td>\n",
              "      <td>158</td>\n",
              "      <td>160</td>\n",
              "      <td>161</td>\n",
              "      <td>157</td>\n",
              "      <td>168</td>\n",
              "      <td>191</td>\n",
              "      <td>188</td>\n",
              "      <td>18</td>\n",
              "      <td>132</td>\n",
              "      <td>159</td>\n",
              "      <td>7</td>\n",
              "      <td>0</td>\n",
              "      <td>0</td>\n",
              "      <td>0</td>\n",
              "      <td>0</td>\n",
              "    </tr>\n",
              "    <tr>\n",
              "      <th>11</th>\n",
              "      <td>0</td>\n",
              "      <td>0</td>\n",
              "      <td>0</td>\n",
              "      <td>0</td>\n",
              "      <td>0</td>\n",
              "      <td>0</td>\n",
              "      <td>0</td>\n",
              "      <td>0</td>\n",
              "      <td>82</td>\n",
              "      <td>187</td>\n",
              "      <td>159</td>\n",
              "      <td>153</td>\n",
              "      <td>157</td>\n",
              "      <td>158</td>\n",
              "      <td>162</td>\n",
              "      <td>164</td>\n",
              "      <td>164</td>\n",
              "      <td>154</td>\n",
              "      <td>187</td>\n",
              "      <td>190</td>\n",
              "      <td>0</td>\n",
              "      <td>0</td>\n",
              "      <td>0</td>\n",
              "      <td>0</td>\n",
              "      <td>0</td>\n",
              "      <td>0</td>\n",
              "      <td>0</td>\n",
              "      <td>0</td>\n",
              "    </tr>\n",
              "    <tr>\n",
              "      <th>12</th>\n",
              "      <td>0</td>\n",
              "      <td>0</td>\n",
              "      <td>0</td>\n",
              "      <td>0</td>\n",
              "      <td>1</td>\n",
              "      <td>3</td>\n",
              "      <td>5</td>\n",
              "      <td>0</td>\n",
              "      <td>37</td>\n",
              "      <td>175</td>\n",
              "      <td>158</td>\n",
              "      <td>155</td>\n",
              "      <td>162</td>\n",
              "      <td>158</td>\n",
              "      <td>160</td>\n",
              "      <td>162</td>\n",
              "      <td>165</td>\n",
              "      <td>153</td>\n",
              "      <td>177</td>\n",
              "      <td>205</td>\n",
              "      <td>0</td>\n",
              "      <td>0</td>\n",
              "      <td>3</td>\n",
              "      <td>3</td>\n",
              "      <td>0</td>\n",
              "      <td>0</td>\n",
              "      <td>0</td>\n",
              "      <td>0</td>\n",
              "    </tr>\n",
              "    <tr>\n",
              "      <th>13</th>\n",
              "      <td>0</td>\n",
              "      <td>0</td>\n",
              "      <td>0</td>\n",
              "      <td>0</td>\n",
              "      <td>0</td>\n",
              "      <td>0</td>\n",
              "      <td>1</td>\n",
              "      <td>0</td>\n",
              "      <td>25</td>\n",
              "      <td>175</td>\n",
              "      <td>152</td>\n",
              "      <td>160</td>\n",
              "      <td>158</td>\n",
              "      <td>161</td>\n",
              "      <td>160</td>\n",
              "      <td>164</td>\n",
              "      <td>164</td>\n",
              "      <td>161</td>\n",
              "      <td>166</td>\n",
              "      <td>200</td>\n",
              "      <td>0</td>\n",
              "      <td>0</td>\n",
              "      <td>1</td>\n",
              "      <td>0</td>\n",
              "      <td>0</td>\n",
              "      <td>0</td>\n",
              "      <td>0</td>\n",
              "      <td>0</td>\n",
              "    </tr>\n",
              "    <tr>\n",
              "      <th>14</th>\n",
              "      <td>0</td>\n",
              "      <td>0</td>\n",
              "      <td>0</td>\n",
              "      <td>0</td>\n",
              "      <td>0</td>\n",
              "      <td>0</td>\n",
              "      <td>4</td>\n",
              "      <td>0</td>\n",
              "      <td>30</td>\n",
              "      <td>171</td>\n",
              "      <td>147</td>\n",
              "      <td>164</td>\n",
              "      <td>155</td>\n",
              "      <td>165</td>\n",
              "      <td>161</td>\n",
              "      <td>165</td>\n",
              "      <td>162</td>\n",
              "      <td>170</td>\n",
              "      <td>164</td>\n",
              "      <td>162</td>\n",
              "      <td>0</td>\n",
              "      <td>0</td>\n",
              "      <td>2</td>\n",
              "      <td>0</td>\n",
              "      <td>0</td>\n",
              "      <td>0</td>\n",
              "      <td>0</td>\n",
              "      <td>0</td>\n",
              "    </tr>\n",
              "    <tr>\n",
              "      <th>15</th>\n",
              "      <td>0</td>\n",
              "      <td>0</td>\n",
              "      <td>0</td>\n",
              "      <td>0</td>\n",
              "      <td>0</td>\n",
              "      <td>0</td>\n",
              "      <td>4</td>\n",
              "      <td>0</td>\n",
              "      <td>57</td>\n",
              "      <td>166</td>\n",
              "      <td>155</td>\n",
              "      <td>164</td>\n",
              "      <td>166</td>\n",
              "      <td>161</td>\n",
              "      <td>161</td>\n",
              "      <td>164</td>\n",
              "      <td>167</td>\n",
              "      <td>165</td>\n",
              "      <td>165</td>\n",
              "      <td>162</td>\n",
              "      <td>28</td>\n",
              "      <td>0</td>\n",
              "      <td>3</td>\n",
              "      <td>0</td>\n",
              "      <td>0</td>\n",
              "      <td>0</td>\n",
              "      <td>0</td>\n",
              "      <td>0</td>\n",
              "    </tr>\n",
              "    <tr>\n",
              "      <th>16</th>\n",
              "      <td>0</td>\n",
              "      <td>0</td>\n",
              "      <td>0</td>\n",
              "      <td>0</td>\n",
              "      <td>0</td>\n",
              "      <td>0</td>\n",
              "      <td>3</td>\n",
              "      <td>0</td>\n",
              "      <td>114</td>\n",
              "      <td>161</td>\n",
              "      <td>161</td>\n",
              "      <td>166</td>\n",
              "      <td>159</td>\n",
              "      <td>168</td>\n",
              "      <td>161</td>\n",
              "      <td>161</td>\n",
              "      <td>172</td>\n",
              "      <td>162</td>\n",
              "      <td>165</td>\n",
              "      <td>171</td>\n",
              "      <td>50</td>\n",
              "      <td>0</td>\n",
              "      <td>5</td>\n",
              "      <td>0</td>\n",
              "      <td>0</td>\n",
              "      <td>0</td>\n",
              "      <td>0</td>\n",
              "      <td>0</td>\n",
              "    </tr>\n",
              "    <tr>\n",
              "      <th>17</th>\n",
              "      <td>0</td>\n",
              "      <td>0</td>\n",
              "      <td>0</td>\n",
              "      <td>0</td>\n",
              "      <td>0</td>\n",
              "      <td>0</td>\n",
              "      <td>1</td>\n",
              "      <td>0</td>\n",
              "      <td>149</td>\n",
              "      <td>157</td>\n",
              "      <td>167</td>\n",
              "      <td>172</td>\n",
              "      <td>159</td>\n",
              "      <td>172</td>\n",
              "      <td>164</td>\n",
              "      <td>161</td>\n",
              "      <td>172</td>\n",
              "      <td>170</td>\n",
              "      <td>160</td>\n",
              "      <td>171</td>\n",
              "      <td>89</td>\n",
              "      <td>0</td>\n",
              "      <td>4</td>\n",
              "      <td>0</td>\n",
              "      <td>0</td>\n",
              "      <td>0</td>\n",
              "      <td>0</td>\n",
              "      <td>0</td>\n",
              "    </tr>\n",
              "    <tr>\n",
              "      <th>18</th>\n",
              "      <td>0</td>\n",
              "      <td>0</td>\n",
              "      <td>0</td>\n",
              "      <td>0</td>\n",
              "      <td>0</td>\n",
              "      <td>2</td>\n",
              "      <td>0</td>\n",
              "      <td>4</td>\n",
              "      <td>171</td>\n",
              "      <td>164</td>\n",
              "      <td>166</td>\n",
              "      <td>173</td>\n",
              "      <td>159</td>\n",
              "      <td>179</td>\n",
              "      <td>166</td>\n",
              "      <td>160</td>\n",
              "      <td>174</td>\n",
              "      <td>167</td>\n",
              "      <td>162</td>\n",
              "      <td>166</td>\n",
              "      <td>128</td>\n",
              "      <td>0</td>\n",
              "      <td>2</td>\n",
              "      <td>0</td>\n",
              "      <td>0</td>\n",
              "      <td>0</td>\n",
              "      <td>0</td>\n",
              "      <td>0</td>\n",
              "    </tr>\n",
              "    <tr>\n",
              "      <th>19</th>\n",
              "      <td>0</td>\n",
              "      <td>0</td>\n",
              "      <td>0</td>\n",
              "      <td>0</td>\n",
              "      <td>0</td>\n",
              "      <td>3</td>\n",
              "      <td>0</td>\n",
              "      <td>18</td>\n",
              "      <td>152</td>\n",
              "      <td>173</td>\n",
              "      <td>160</td>\n",
              "      <td>179</td>\n",
              "      <td>154</td>\n",
              "      <td>181</td>\n",
              "      <td>166</td>\n",
              "      <td>164</td>\n",
              "      <td>175</td>\n",
              "      <td>170</td>\n",
              "      <td>166</td>\n",
              "      <td>170</td>\n",
              "      <td>164</td>\n",
              "      <td>0</td>\n",
              "      <td>0</td>\n",
              "      <td>1</td>\n",
              "      <td>0</td>\n",
              "      <td>0</td>\n",
              "      <td>0</td>\n",
              "      <td>0</td>\n",
              "    </tr>\n",
              "    <tr>\n",
              "      <th>20</th>\n",
              "      <td>0</td>\n",
              "      <td>0</td>\n",
              "      <td>0</td>\n",
              "      <td>0</td>\n",
              "      <td>0</td>\n",
              "      <td>4</td>\n",
              "      <td>0</td>\n",
              "      <td>47</td>\n",
              "      <td>165</td>\n",
              "      <td>172</td>\n",
              "      <td>167</td>\n",
              "      <td>185</td>\n",
              "      <td>153</td>\n",
              "      <td>187</td>\n",
              "      <td>173</td>\n",
              "      <td>165</td>\n",
              "      <td>174</td>\n",
              "      <td>179</td>\n",
              "      <td>166</td>\n",
              "      <td>166</td>\n",
              "      <td>158</td>\n",
              "      <td>5</td>\n",
              "      <td>0</td>\n",
              "      <td>3</td>\n",
              "      <td>0</td>\n",
              "      <td>0</td>\n",
              "      <td>0</td>\n",
              "      <td>0</td>\n",
              "    </tr>\n",
              "    <tr>\n",
              "      <th>21</th>\n",
              "      <td>0</td>\n",
              "      <td>0</td>\n",
              "      <td>0</td>\n",
              "      <td>0</td>\n",
              "      <td>0</td>\n",
              "      <td>4</td>\n",
              "      <td>0</td>\n",
              "      <td>87</td>\n",
              "      <td>180</td>\n",
              "      <td>162</td>\n",
              "      <td>179</td>\n",
              "      <td>179</td>\n",
              "      <td>157</td>\n",
              "      <td>191</td>\n",
              "      <td>182</td>\n",
              "      <td>165</td>\n",
              "      <td>168</td>\n",
              "      <td>190</td>\n",
              "      <td>173</td>\n",
              "      <td>165</td>\n",
              "      <td>166</td>\n",
              "      <td>20</td>\n",
              "      <td>0</td>\n",
              "      <td>4</td>\n",
              "      <td>0</td>\n",
              "      <td>0</td>\n",
              "      <td>0</td>\n",
              "      <td>0</td>\n",
              "    </tr>\n",
              "    <tr>\n",
              "      <th>22</th>\n",
              "      <td>0</td>\n",
              "      <td>0</td>\n",
              "      <td>0</td>\n",
              "      <td>0</td>\n",
              "      <td>0</td>\n",
              "      <td>4</td>\n",
              "      <td>0</td>\n",
              "      <td>105</td>\n",
              "      <td>187</td>\n",
              "      <td>157</td>\n",
              "      <td>194</td>\n",
              "      <td>175</td>\n",
              "      <td>161</td>\n",
              "      <td>190</td>\n",
              "      <td>184</td>\n",
              "      <td>170</td>\n",
              "      <td>158</td>\n",
              "      <td>205</td>\n",
              "      <td>177</td>\n",
              "      <td>168</td>\n",
              "      <td>171</td>\n",
              "      <td>44</td>\n",
              "      <td>0</td>\n",
              "      <td>4</td>\n",
              "      <td>0</td>\n",
              "      <td>0</td>\n",
              "      <td>0</td>\n",
              "      <td>0</td>\n",
              "    </tr>\n",
              "    <tr>\n",
              "      <th>23</th>\n",
              "      <td>0</td>\n",
              "      <td>0</td>\n",
              "      <td>0</td>\n",
              "      <td>0</td>\n",
              "      <td>0</td>\n",
              "      <td>5</td>\n",
              "      <td>0</td>\n",
              "      <td>138</td>\n",
              "      <td>181</td>\n",
              "      <td>158</td>\n",
              "      <td>205</td>\n",
              "      <td>160</td>\n",
              "      <td>167</td>\n",
              "      <td>190</td>\n",
              "      <td>198</td>\n",
              "      <td>167</td>\n",
              "      <td>152</td>\n",
              "      <td>218</td>\n",
              "      <td>186</td>\n",
              "      <td>170</td>\n",
              "      <td>172</td>\n",
              "      <td>57</td>\n",
              "      <td>0</td>\n",
              "      <td>5</td>\n",
              "      <td>0</td>\n",
              "      <td>0</td>\n",
              "      <td>0</td>\n",
              "      <td>0</td>\n",
              "    </tr>\n",
              "    <tr>\n",
              "      <th>24</th>\n",
              "      <td>0</td>\n",
              "      <td>0</td>\n",
              "      <td>0</td>\n",
              "      <td>0</td>\n",
              "      <td>0</td>\n",
              "      <td>5</td>\n",
              "      <td>0</td>\n",
              "      <td>135</td>\n",
              "      <td>174</td>\n",
              "      <td>167</td>\n",
              "      <td>199</td>\n",
              "      <td>155</td>\n",
              "      <td>166</td>\n",
              "      <td>201</td>\n",
              "      <td>219</td>\n",
              "      <td>165</td>\n",
              "      <td>158</td>\n",
              "      <td>218</td>\n",
              "      <td>188</td>\n",
              "      <td>167</td>\n",
              "      <td>175</td>\n",
              "      <td>56</td>\n",
              "      <td>0</td>\n",
              "      <td>7</td>\n",
              "      <td>0</td>\n",
              "      <td>0</td>\n",
              "      <td>0</td>\n",
              "      <td>0</td>\n",
              "    </tr>\n",
              "    <tr>\n",
              "      <th>25</th>\n",
              "      <td>0</td>\n",
              "      <td>0</td>\n",
              "      <td>0</td>\n",
              "      <td>0</td>\n",
              "      <td>0</td>\n",
              "      <td>5</td>\n",
              "      <td>0</td>\n",
              "      <td>129</td>\n",
              "      <td>171</td>\n",
              "      <td>172</td>\n",
              "      <td>177</td>\n",
              "      <td>153</td>\n",
              "      <td>159</td>\n",
              "      <td>206</td>\n",
              "      <td>216</td>\n",
              "      <td>148</td>\n",
              "      <td>157</td>\n",
              "      <td>206</td>\n",
              "      <td>190</td>\n",
              "      <td>165</td>\n",
              "      <td>175</td>\n",
              "      <td>48</td>\n",
              "      <td>0</td>\n",
              "      <td>5</td>\n",
              "      <td>0</td>\n",
              "      <td>0</td>\n",
              "      <td>0</td>\n",
              "      <td>0</td>\n",
              "    </tr>\n",
              "    <tr>\n",
              "      <th>26</th>\n",
              "      <td>0</td>\n",
              "      <td>0</td>\n",
              "      <td>0</td>\n",
              "      <td>0</td>\n",
              "      <td>0</td>\n",
              "      <td>5</td>\n",
              "      <td>0</td>\n",
              "      <td>167</td>\n",
              "      <td>187</td>\n",
              "      <td>182</td>\n",
              "      <td>198</td>\n",
              "      <td>194</td>\n",
              "      <td>200</td>\n",
              "      <td>226</td>\n",
              "      <td>240</td>\n",
              "      <td>184</td>\n",
              "      <td>206</td>\n",
              "      <td>255</td>\n",
              "      <td>197</td>\n",
              "      <td>178</td>\n",
              "      <td>179</td>\n",
              "      <td>42</td>\n",
              "      <td>0</td>\n",
              "      <td>5</td>\n",
              "      <td>0</td>\n",
              "      <td>0</td>\n",
              "      <td>0</td>\n",
              "      <td>0</td>\n",
              "    </tr>\n",
              "    <tr>\n",
              "      <th>27</th>\n",
              "      <td>0</td>\n",
              "      <td>0</td>\n",
              "      <td>0</td>\n",
              "      <td>0</td>\n",
              "      <td>0</td>\n",
              "      <td>3</td>\n",
              "      <td>0</td>\n",
              "      <td>115</td>\n",
              "      <td>135</td>\n",
              "      <td>113</td>\n",
              "      <td>106</td>\n",
              "      <td>85</td>\n",
              "      <td>82</td>\n",
              "      <td>108</td>\n",
              "      <td>133</td>\n",
              "      <td>83</td>\n",
              "      <td>90</td>\n",
              "      <td>121</td>\n",
              "      <td>120</td>\n",
              "      <td>110</td>\n",
              "      <td>158</td>\n",
              "      <td>18</td>\n",
              "      <td>0</td>\n",
              "      <td>3</td>\n",
              "      <td>0</td>\n",
              "      <td>0</td>\n",
              "      <td>0</td>\n",
              "      <td>0</td>\n",
              "    </tr>\n",
              "  </tbody>\n",
              "</table>\n",
              "</div>"
            ],
            "text/plain": [
              "    0   1   2   3    4    5    6    7   ...   20   21   22   23   24  25  26  27\n",
              "0    0   0   0   0    0    0    0   11  ...  112    0    0    0    0   0   0   0\n",
              "1    0   0   0   0    0    0  152  214  ...  217  188   34    0    0   0   0   0\n",
              "2    0   0   0   0    0   66  185  166  ...  172  188  175    0    0   0   0   0\n",
              "3    0   0   0   0    0  135  153  160  ...  174  161  175   59    0   0   0   0\n",
              "4    0   0   0   0    0  161  147  160  ...  171  164  174  120    0   0   0   0\n",
              "5    0   0   0   0    2  175  146  145  ...  181  171  172  158    0   0   0   0\n",
              "6    0   0   0   0   35  177  155  140  ...  180  161  161  185    0   0   0   0\n",
              "7    0   0   0   0   59  170  153  141  ...  139  149  162  166   21   0   0   0\n",
              "8    0   0   0   0   79  145  160  214  ...  195  193  152  166   61   0   0   0\n",
              "9    0   0   0   0  100  157  225  245  ...  185  240  201  172  108   0   0   0\n",
              "10   0   0   0   0    0   31  174   28  ...   18  132  159    7    0   0   0   0\n",
              "11   0   0   0   0    0    0    0    0  ...    0    0    0    0    0   0   0   0\n",
              "12   0   0   0   0    1    3    5    0  ...    0    0    3    3    0   0   0   0\n",
              "13   0   0   0   0    0    0    1    0  ...    0    0    1    0    0   0   0   0\n",
              "14   0   0   0   0    0    0    4    0  ...    0    0    2    0    0   0   0   0\n",
              "15   0   0   0   0    0    0    4    0  ...   28    0    3    0    0   0   0   0\n",
              "16   0   0   0   0    0    0    3    0  ...   50    0    5    0    0   0   0   0\n",
              "17   0   0   0   0    0    0    1    0  ...   89    0    4    0    0   0   0   0\n",
              "18   0   0   0   0    0    2    0    4  ...  128    0    2    0    0   0   0   0\n",
              "19   0   0   0   0    0    3    0   18  ...  164    0    0    1    0   0   0   0\n",
              "20   0   0   0   0    0    4    0   47  ...  158    5    0    3    0   0   0   0\n",
              "21   0   0   0   0    0    4    0   87  ...  166   20    0    4    0   0   0   0\n",
              "22   0   0   0   0    0    4    0  105  ...  171   44    0    4    0   0   0   0\n",
              "23   0   0   0   0    0    5    0  138  ...  172   57    0    5    0   0   0   0\n",
              "24   0   0   0   0    0    5    0  135  ...  175   56    0    7    0   0   0   0\n",
              "25   0   0   0   0    0    5    0  129  ...  175   48    0    5    0   0   0   0\n",
              "26   0   0   0   0    0    5    0  167  ...  179   42    0    5    0   0   0   0\n",
              "27   0   0   0   0    0    3    0  115  ...  158   18    0    3    0   0   0   0\n",
              "\n",
              "[28 rows x 28 columns]"
            ]
          },
          "metadata": {
            "tags": []
          }
        }
      ]
    },
    {
      "cell_type": "markdown",
      "metadata": {
        "id": "zSmEEtnKBzLg",
        "colab_type": "text"
      },
      "source": [
        "##Data Preprocessing"
      ]
    },
    {
      "cell_type": "markdown",
      "metadata": {
        "id": "gIRoe3t3EmCZ",
        "colab_type": "text"
      },
      "source": [
        "Modifying the values of each pixel such that they range from 0 to 1 will improve the rate at which our model learns."
      ]
    },
    {
      "cell_type": "code",
      "metadata": {
        "id": "iCrZJXWcjnj6",
        "colab_type": "code",
        "colab": {}
      },
      "source": [
        "# scale data to the range of [0, 1]\n",
        "X_train = X_train.astype(\"float32\") / 255.0\n",
        "X_test = X_test.astype(\"float32\") / 255.0"
      ],
      "execution_count": 0,
      "outputs": []
    },
    {
      "cell_type": "markdown",
      "metadata": {
        "id": "YE8bnBeSl6kK",
        "colab_type": "text"
      },
      "source": [
        "## Split the data into train/validation/test data sets\n",
        "\n",
        "\n",
        "*   Training data - used for training the model\n",
        "*   Validation data - used for tuning the hyperparameters and evaluate the models\n",
        "*   Test data - used to test the model after the model has gone through initial vetting by the validation set."
      ]
    },
    {
      "cell_type": "code",
      "metadata": {
        "id": "C871W2S9l0w5",
        "colab_type": "code",
        "colab": {}
      },
      "source": [
        "# Further break training data into train / validation sets (# put 5000 into validation set and keep remaining 55,000 for train)\n",
        "(X_train, X_valid) = X_train[5000:], X_train[:5000] \n",
        "(Y_train, Y_valid) = Y_train[5000:], Y_train[:5000]"
      ],
      "execution_count": 0,
      "outputs": []
    },
    {
      "cell_type": "code",
      "metadata": {
        "id": "V7_tAyMa7Det",
        "colab_type": "code",
        "outputId": "068c3392-6137-49ab-c18d-44d9958fdbfa",
        "colab": {
          "base_uri": "https://localhost:8080/",
          "height": 34
        }
      },
      "source": [
        "X_train.shape[0]"
      ],
      "execution_count": 0,
      "outputs": [
        {
          "output_type": "execute_result",
          "data": {
            "text/plain": [
              "50000"
            ]
          },
          "metadata": {
            "tags": []
          },
          "execution_count": 18
        }
      ]
    },
    {
      "cell_type": "markdown",
      "metadata": {
        "id": "7tWWKq3-54Ub",
        "colab_type": "text"
      },
      "source": [
        "When using a convolutional layer as the first layer to our model, we need to reshape our data to (***n_images, x_shape, y_shape, channels***). All we really need to know is that we should set ***channels*** to **1 for grayscale images** and set ***channels*** to **3** when we have a set of **RGB-images** as input."
      ]
    },
    {
      "cell_type": "code",
      "metadata": {
        "id": "VBbokXLm5pTu",
        "colab_type": "code",
        "colab": {}
      },
      "source": [
        "# Reshape input data from (28, 28) to (28, 28, 1)\n",
        "w, h = 28, 28\n",
        "X_train = X_train.reshape(X_train.shape[0], w, h, 1)\n",
        "X_valid = X_valid.reshape(X_valid.shape[0], w, h, 1)\n",
        "X_test = X_test.reshape(X_test.shape[0], w, h, 1)"
      ],
      "execution_count": 0,
      "outputs": []
    },
    {
      "cell_type": "code",
      "metadata": {
        "id": "ZlyXGhm68A4P",
        "colab_type": "code",
        "outputId": "f81303ad-dc9c-466d-f3e4-e596aba3251d",
        "colab": {
          "base_uri": "https://localhost:8080/",
          "height": 85
        }
      },
      "source": [
        "# Print training set shape\n",
        "print(\"x_train shape:\", Y_train.shape, \"y_train shape:\", Y_train.shape)\n",
        "\n",
        "# Print the number of training, validation, and test datasets\n",
        "print(X_train.shape[0], 'train set')\n",
        "print(X_valid.shape[0], 'validation set')\n",
        "print(X_test.shape[0], 'test set')"
      ],
      "execution_count": 0,
      "outputs": [
        {
          "output_type": "stream",
          "text": [
            "x_train shape: (50000,) y_train shape: (50000,)\n",
            "50000 train set\n",
            "5000 validation set\n",
            "10000 test set\n"
          ],
          "name": "stdout"
        }
      ]
    },
    {
      "cell_type": "markdown",
      "metadata": {
        "id": "eA2yCgyJ7jXL",
        "colab_type": "text"
      },
      "source": [
        "Our model cannot work with categorical data directly. Therefore, we must use one hot encoding. In one hot encoding, the digits 0 through 9 are represented as a set of nine zeros and a single one. The digit is determined by the location of the number 1. For example, we’d represent a 3 as [0, 0, 0, 1, 0, 0, 0, 0, 0, 0]."
      ]
    },
    {
      "cell_type": "code",
      "metadata": {
        "id": "-HyBHfZy6QoO",
        "colab_type": "code",
        "outputId": "6a47b385-e951-42ee-b8d6-5ecc3cb95357",
        "colab": {
          "base_uri": "https://localhost:8080/",
          "height": 34
        }
      },
      "source": [
        "\n",
        "# One-hot encode the labels\n",
        "Y_train_one_hot = to_categorical(Y_train, 10)\n",
        "Y_valid_one_hot = to_categorical(Y_valid, 10)\n",
        "Y_test_one_hot = to_categorical(Y_test, 10)\n",
        "Y_train_one_hot[0]"
      ],
      "execution_count": 0,
      "outputs": [
        {
          "output_type": "execute_result",
          "data": {
            "text/plain": [
              "array([0., 0., 0., 0., 0., 0., 0., 0., 1., 0.], dtype=float32)"
            ]
          },
          "metadata": {
            "tags": []
          },
          "execution_count": 21
        }
      ]
    },
    {
      "cell_type": "markdown",
      "metadata": {
        "id": "Ucsc7nRfG8n6",
        "colab_type": "text"
      },
      "source": [
        "## Create the model architecture\n",
        "\n",
        "There are two APIs for defining a model in Keras:\n",
        "1. [Sequential model API](https://keras.io/models/sequential/)\n",
        "2. [Functional API](https://keras.io/models/model/)\n",
        "\n",
        "In this notebook we are using the Sequential model API. \n",
        "If you are interested in a tutorial using the Functional API, checkout Sara Robinson's blog [Predicting the price of wine with the Keras Functional API and TensorFlow](https://medium.com/tensorflow/predicting-the-price-of-wine-with-the-keras-functional-api-and-tensorflow-a95d1c2c1b03).\n",
        "\n",
        "In defining the model we will be using some of these Keras APIs:\n",
        "*   Conv2D() [link text]( https://www.pyimagesearch.com/2018/12/31/keras-conv2d-and-convolutional-layers/) - create a convolutional layer \n",
        "*   Pooling() [link text](https://keras.io/layers/pooling/) - create a pooling layer \n",
        "*   BatchNormalization() [link text](https://keras.io/layers/normalization/) - create and configure a BatchNormalization\n",
        "*   Dropout() [link text](https://towardsdatascience.com/machine-learning-part-20-dropout-keras-layers-explained-8c9f6dc4c9ab) - apply drop out "
      ]
    },
    {
      "cell_type": "code",
      "metadata": {
        "id": "qi1oVodakYFf",
        "colab_type": "code",
        "outputId": "4d1a9df5-7f42-480d-f7d4-50d9a8dbdf0b",
        "colab": {
          "base_uri": "https://localhost:8080/",
          "height": 496
        }
      },
      "source": [
        "model = Sequential()\n",
        "model.add(Conv2D(filters=64, \n",
        "                 kernel_size=2,\n",
        "                 padding='same',\n",
        "                 activation='relu',\n",
        "                 input_shape=(28, 28, 1)))\n",
        "model.add(BatchNormalization(axis=-1))\n",
        "model.add(MaxPooling2D(pool_size=(2,2)))\n",
        "model.add(Dropout(0.5))\n",
        "\n",
        "model.add(Conv2D(filters=32, \n",
        "                 kernel_size=2,\n",
        "                 padding='same',\n",
        "                 activation='relu'))\n",
        "model.add(BatchNormalization(axis=-1))\n",
        "model.add(MaxPooling2D(pool_size=(2,2)))\n",
        "model.add(Dropout(0.5))\n",
        "\n",
        "model.add(Flatten())\n",
        "model.add(Dense(256, activation='relu'))\n",
        "model.add(BatchNormalization(axis=-1))\n",
        "model.add(Dropout(0.5))\n",
        "\n",
        "model.add(Dense(10, activation='softmax')) #10 indicates the number of classes"
      ],
      "execution_count": 0,
      "outputs": [
        {
          "output_type": "stream",
          "text": [
            "WARNING:tensorflow:From /usr/local/lib/python3.6/dist-packages/keras/backend/tensorflow_backend.py:66: The name tf.get_default_graph is deprecated. Please use tf.compat.v1.get_default_graph instead.\n",
            "\n",
            "WARNING:tensorflow:From /usr/local/lib/python3.6/dist-packages/keras/backend/tensorflow_backend.py:541: The name tf.placeholder is deprecated. Please use tf.compat.v1.placeholder instead.\n",
            "\n",
            "WARNING:tensorflow:From /usr/local/lib/python3.6/dist-packages/keras/backend/tensorflow_backend.py:4432: The name tf.random_uniform is deprecated. Please use tf.random.uniform instead.\n",
            "\n",
            "WARNING:tensorflow:From /usr/local/lib/python3.6/dist-packages/keras/backend/tensorflow_backend.py:190: The name tf.get_default_session is deprecated. Please use tf.compat.v1.get_default_session instead.\n",
            "\n",
            "WARNING:tensorflow:From /usr/local/lib/python3.6/dist-packages/keras/backend/tensorflow_backend.py:197: The name tf.ConfigProto is deprecated. Please use tf.compat.v1.ConfigProto instead.\n",
            "\n",
            "WARNING:tensorflow:From /usr/local/lib/python3.6/dist-packages/keras/backend/tensorflow_backend.py:203: The name tf.Session is deprecated. Please use tf.compat.v1.Session instead.\n",
            "\n",
            "WARNING:tensorflow:From /usr/local/lib/python3.6/dist-packages/keras/backend/tensorflow_backend.py:207: The name tf.global_variables is deprecated. Please use tf.compat.v1.global_variables instead.\n",
            "\n",
            "WARNING:tensorflow:From /usr/local/lib/python3.6/dist-packages/keras/backend/tensorflow_backend.py:216: The name tf.is_variable_initialized is deprecated. Please use tf.compat.v1.is_variable_initialized instead.\n",
            "\n",
            "WARNING:tensorflow:From /usr/local/lib/python3.6/dist-packages/keras/backend/tensorflow_backend.py:223: The name tf.variables_initializer is deprecated. Please use tf.compat.v1.variables_initializer instead.\n",
            "\n",
            "WARNING:tensorflow:From /usr/local/lib/python3.6/dist-packages/keras/backend/tensorflow_backend.py:2041: The name tf.nn.fused_batch_norm is deprecated. Please use tf.compat.v1.nn.fused_batch_norm instead.\n",
            "\n",
            "WARNING:tensorflow:From /usr/local/lib/python3.6/dist-packages/keras/backend/tensorflow_backend.py:148: The name tf.placeholder_with_default is deprecated. Please use tf.compat.v1.placeholder_with_default instead.\n",
            "\n",
            "WARNING:tensorflow:From /usr/local/lib/python3.6/dist-packages/keras/backend/tensorflow_backend.py:4267: The name tf.nn.max_pool is deprecated. Please use tf.nn.max_pool2d instead.\n",
            "\n",
            "WARNING:tensorflow:From /usr/local/lib/python3.6/dist-packages/keras/backend/tensorflow_backend.py:3733: calling dropout (from tensorflow.python.ops.nn_ops) with keep_prob is deprecated and will be removed in a future version.\n",
            "Instructions for updating:\n",
            "Please use `rate` instead of `keep_prob`. Rate should be set to `rate = 1 - keep_prob`.\n"
          ],
          "name": "stdout"
        }
      ]
    },
    {
      "cell_type": "code",
      "metadata": {
        "id": "lvKkUxj1mFKV",
        "colab_type": "code",
        "outputId": "e739fc97-dad7-44f7-c02d-fed657264676",
        "colab": {
          "base_uri": "https://localhost:8080/",
          "height": 595
        }
      },
      "source": [
        "model.summary()"
      ],
      "execution_count": 0,
      "outputs": [
        {
          "output_type": "stream",
          "text": [
            "Model: \"sequential_1\"\n",
            "_________________________________________________________________\n",
            "Layer (type)                 Output Shape              Param #   \n",
            "=================================================================\n",
            "conv2d_1 (Conv2D)            (None, 28, 28, 64)        320       \n",
            "_________________________________________________________________\n",
            "batch_normalization_1 (Batch (None, 28, 28, 64)        256       \n",
            "_________________________________________________________________\n",
            "max_pooling2d_1 (MaxPooling2 (None, 14, 14, 64)        0         \n",
            "_________________________________________________________________\n",
            "dropout_1 (Dropout)          (None, 14, 14, 64)        0         \n",
            "_________________________________________________________________\n",
            "conv2d_2 (Conv2D)            (None, 14, 14, 32)        8224      \n",
            "_________________________________________________________________\n",
            "batch_normalization_2 (Batch (None, 14, 14, 32)        128       \n",
            "_________________________________________________________________\n",
            "max_pooling2d_2 (MaxPooling2 (None, 7, 7, 32)          0         \n",
            "_________________________________________________________________\n",
            "dropout_2 (Dropout)          (None, 7, 7, 32)          0         \n",
            "_________________________________________________________________\n",
            "flatten_1 (Flatten)          (None, 1568)              0         \n",
            "_________________________________________________________________\n",
            "dense_1 (Dense)              (None, 256)               401664    \n",
            "_________________________________________________________________\n",
            "batch_normalization_3 (Batch (None, 256)               1024      \n",
            "_________________________________________________________________\n",
            "dropout_3 (Dropout)          (None, 256)               0         \n",
            "_________________________________________________________________\n",
            "dense_2 (Dense)              (None, 10)                2570      \n",
            "=================================================================\n",
            "Total params: 414,186\n",
            "Trainable params: 413,482\n",
            "Non-trainable params: 704\n",
            "_________________________________________________________________\n"
          ],
          "name": "stdout"
        }
      ]
    },
    {
      "cell_type": "code",
      "metadata": {
        "id": "v7O1m5HR8HmP",
        "colab_type": "code",
        "outputId": "09a01279-6e8e-49aa-f360-d8e6cfdb257e",
        "colab": {
          "base_uri": "https://localhost:8080/",
          "height": 34
        }
      },
      "source": [
        "7*7*32"
      ],
      "execution_count": 0,
      "outputs": [
        {
          "output_type": "execute_result",
          "data": {
            "text/plain": [
              "1568"
            ]
          },
          "metadata": {
            "tags": []
          },
          "execution_count": 13
        }
      ]
    },
    {
      "cell_type": "markdown",
      "metadata": {
        "id": "t2zxQ-OseK7Y",
        "colab_type": "text"
      },
      "source": [
        "Reference for number of parameter in Dense layer: [link text](https://medium.com/@zhang_yang/number-of-parameters-in-dense-and-convolutional-neural-networks-34b54c2ec349) "
      ]
    },
    {
      "cell_type": "markdown",
      "metadata": {
        "id": "qcyvxMAThkhd",
        "colab_type": "text"
      },
      "source": [
        "##Compile The Model\n",
        "We use model.compile() to configure the learning process before training the model. This is where we define the type of loss function, optimizer and the metrics evaluated by the model during training and testing."
      ]
    },
    {
      "cell_type": "code",
      "metadata": {
        "id": "tUf7I-7iIx0_",
        "colab_type": "code",
        "outputId": "007f5f6a-4a31-411c-818c-b0533529c4d2",
        "colab": {
          "base_uri": "https://localhost:8080/",
          "height": 106
        }
      },
      "source": [
        "model.compile(loss=keras.losses.categorical_crossentropy, optimizer=keras.optimizers.Adam(),metrics=['accuracy'])"
      ],
      "execution_count": 0,
      "outputs": [
        {
          "output_type": "stream",
          "text": [
            "WARNING:tensorflow:From /usr/local/lib/python3.6/dist-packages/keras/optimizers.py:793: The name tf.train.Optimizer is deprecated. Please use tf.compat.v1.train.Optimizer instead.\n",
            "\n",
            "WARNING:tensorflow:From /usr/local/lib/python3.6/dist-packages/keras/backend/tensorflow_backend.py:3576: The name tf.log is deprecated. Please use tf.math.log instead.\n",
            "\n"
          ],
          "name": "stdout"
        }
      ]
    },
    {
      "cell_type": "code",
      "metadata": {
        "id": "QrbTCAxkpCZ7",
        "colab_type": "code",
        "outputId": "38c109b8-cd1c-40d1-84d9-7b269e76417b",
        "colab": {
          "base_uri": "https://localhost:8080/",
          "height": 1000
        }
      },
      "source": [
        "from keras.utils import plot_model\n",
        "\n",
        "plot_model(model, show_shapes=True, to_file='CNN.png')\n",
        "\n",
        "from IPython.display import Image\n",
        "Image('CNN.png')"
      ],
      "execution_count": 0,
      "outputs": [
        {
          "output_type": "execute_result",
          "data": {
            "image/png": "[encoded data removed]",
            "text/plain": [
              "<IPython.core.display.Image object>"
            ]
          },
          "metadata": {
            "tags": []
          },
          "execution_count": 14
        }
      ]
    },
    {
      "cell_type": "code",
      "metadata": {
        "id": "94xA2z7RARRw",
        "colab_type": "code",
        "outputId": "b1456f7b-9a34-476c-a027-56ab98ba1f54",
        "colab": {
          "base_uri": "https://localhost:8080/",
          "height": 85
        }
      },
      "source": [
        "#These codes aim to make sure that all dimension have the same shape \n",
        "print(X_train.shape)\n",
        "print(Y_train_one_hot.shape)\n",
        "print(X_valid.shape)\n",
        "print(Y_valid_one_hot.shape)"
      ],
      "execution_count": 0,
      "outputs": [
        {
          "output_type": "stream",
          "text": [
            "(55000, 28, 28, 1)\n",
            "(55000, 10)\n",
            "(5000, 28, 28, 1)\n",
            "(5000, 10)\n"
          ],
          "name": "stdout"
        }
      ]
    },
    {
      "cell_type": "markdown",
      "metadata": {
        "id": "CCvbQR4Eh4nJ",
        "colab_type": "text"
      },
      "source": [
        "##Train The Model\n",
        "We will train the model with a batch_size of 64 and 10 epochs. Check out this [link text](https://towardsdatascience.com/epoch-vs-iterations-vs-batch-size-4dfb9c7ce9c9) to learn more about epoch, iterations, and batch.\n",
        "\n",
        "\n",
        "\n",
        "1.   **Epoch**: One Epoch is when an ENTIRE dataset is passed forward and backward through the neural network only ONCE.\n",
        "2.   **Batch size**: Total number of training examples present in a single batch.\n",
        "3.   **Iterations**: Iterations is the number of batches needed to complete one epoch.\n",
        "\n",
        "Let’s say we have 2000 training examples that we are going to use .\n",
        "We can divide the dataset of 2000 examples into batches of 500 then it will take 4 iterations to complete 1 epoch.\n",
        "\n"
      ]
    },
    {
      "cell_type": "code",
      "metadata": {
        "id": "fb9KV6h4lpnX",
        "colab_type": "code",
        "outputId": "290c6a34-4d4c-4b55-d332-cf337e519019",
        "colab": {
          "base_uri": "https://localhost:8080/",
          "height": 384
        }
      },
      "source": [
        "from keras.callbacks import ModelCheckpoint\n",
        "\n",
        "checkpointer = ModelCheckpoint(filepath='model.weights.best.hdf5', verbose = 1, save_best_only=True)\n",
        "hst = model.fit(X_train,\n",
        "         Y_train_one_hot,\n",
        "         batch_size=500,\n",
        "         epochs=3,\n",
        "         validation_data=(X_valid, Y_valid_one_hot),\n",
        "         callbacks=[checkpointer])"
      ],
      "execution_count": 0,
      "outputs": [
        {
          "output_type": "stream",
          "text": [
            "WARNING:tensorflow:From /usr/local/lib/python3.6/dist-packages/tensorflow_core/python/ops/math_grad.py:1424: where (from tensorflow.python.ops.array_ops) is deprecated and will be removed in a future version.\n",
            "Instructions for updating:\n",
            "Use tf.where in 2.0, which has the same broadcast rule as np.where\n",
            "WARNING:tensorflow:From /usr/local/lib/python3.6/dist-packages/keras/backend/tensorflow_backend.py:1033: The name tf.assign_add is deprecated. Please use tf.compat.v1.assign_add instead.\n",
            "\n",
            "WARNING:tensorflow:From /usr/local/lib/python3.6/dist-packages/keras/backend/tensorflow_backend.py:1020: The name tf.assign is deprecated. Please use tf.compat.v1.assign instead.\n",
            "\n",
            "Train on 55000 samples, validate on 5000 samples\n",
            "Epoch 1/3\n",
            "55000/55000 [==============================] - 141s 3ms/step - loss: 0.8441 - acc: 0.7149 - val_loss: 0.4102 - val_acc: 0.8520\n",
            "\n",
            "Epoch 00001: val_loss improved from inf to 0.41016, saving model to model.weights.best.hdf5\n",
            "Epoch 2/3\n",
            "55000/55000 [==============================] - 138s 3ms/step - loss: 0.5126 - acc: 0.8115 - val_loss: 0.3601 - val_acc: 0.8700\n",
            "\n",
            "Epoch 00002: val_loss improved from 0.41016 to 0.36010, saving model to model.weights.best.hdf5\n",
            "Epoch 3/3\n",
            "55000/55000 [==============================] - 137s 2ms/step - loss: 0.4488 - acc: 0.8351 - val_loss: 0.3288 - val_acc: 0.8774\n",
            "\n",
            "Epoch 00003: val_loss improved from 0.36010 to 0.32876, saving model to model.weights.best.hdf5\n"
          ],
          "name": "stdout"
        }
      ]
    },
    {
      "cell_type": "code",
      "metadata": {
        "id": "3fB-lFgxIiEf",
        "colab_type": "code",
        "outputId": "2afdc9c7-370f-4b77-b1c7-db959bda9024",
        "colab": {
          "base_uri": "https://localhost:8080/",
          "height": 69
        }
      },
      "source": [
        "test_loss, test_acc = model.evaluate(X_test, Y_test_one_hot)\n",
        "print('Test loss', test_loss)\n",
        "print('Test accuracy', test_acc)"
      ],
      "execution_count": 0,
      "outputs": [
        {
          "output_type": "stream",
          "text": [
            "10000/10000 [==============================] - 11s 1ms/step\n",
            "Test loss 0.35352282938957214\n",
            "Test accuracy 0.8738\n"
          ],
          "name": "stdout"
        }
      ]
    },
    {
      "cell_type": "code",
      "metadata": {
        "id": "Qj6tWZlxLEdQ",
        "colab_type": "code",
        "outputId": "f68d46f5-657b-4bb7-ba98-2a91d8ef2207",
        "colab": {
          "base_uri": "https://localhost:8080/",
          "height": 34
        }
      },
      "source": [
        "model.predict(X_test[:2])\n",
        "Y_test[:2]"
      ],
      "execution_count": 0,
      "outputs": [
        {
          "output_type": "execute_result",
          "data": {
            "text/plain": [
              "array([9, 2], dtype=uint8)"
            ]
          },
          "metadata": {
            "tags": []
          },
          "execution_count": 25
        }
      ]
    },
    {
      "cell_type": "code",
      "metadata": {
        "id": "pu0H5LlwKFIY",
        "colab_type": "code",
        "outputId": "a21438fa-3a2f-492a-e831-755a1f5d7a79",
        "colab": {
          "base_uri": "https://localhost:8080/",
          "height": 282
        }
      },
      "source": [
        "predictions = model.predict(X_test)\n",
        "print(np.argmax(np.round(predictions[100])))\n",
        "plt.imshow(X_test[100].reshape(28, 28), cmap = plt.cm.binary)\n",
        "plt.show()"
      ],
      "execution_count": 0,
      "outputs": [
        {
          "output_type": "stream",
          "text": [
            "3\n"
          ],
          "name": "stdout"
        },
        {
          "output_type": "display_data",
          "data": {
            "image/png": "[encoded data removed]",
            "text/plain": [
              "<Figure size 432x288 with 1 Axes>"
            ]
          },
          "metadata": {
            "tags": []
          }
        }
      ]
    },
    {
      "cell_type": "code",
      "metadata": {
        "id": "nIzAqQXoUZRk",
        "colab_type": "code",
        "outputId": "27593df6-bdbb-4cd5-c6df-f5ee5b26f4a1",
        "colab": {
          "base_uri": "https://localhost:8080/",
          "height": 52
        }
      },
      "source": [
        "print((predictions[100]))"
      ],
      "execution_count": 0,
      "outputs": [
        {
          "output_type": "stream",
          "text": [
            "[1.4789236e-03 1.9448217e-03 1.7745711e-04 9.9438262e-01 8.3296630e-04\n",
            " 4.2426054e-05 8.7300531e-04 1.2386627e-04 4.3012420e-05 1.0092253e-04]\n"
          ],
          "name": "stdout"
        }
      ]
    },
    {
      "cell_type": "code",
      "metadata": {
        "id": "snnFjHUXVDfy",
        "colab_type": "code",
        "outputId": "88651c20-40ed-45bb-df97-cb7ad4c135c9",
        "colab": {
          "base_uri": "https://localhost:8080/",
          "height": 34
        }
      },
      "source": [
        "print(np.round(predictions[100]))"
      ],
      "execution_count": 0,
      "outputs": [
        {
          "output_type": "stream",
          "text": [
            "[0. 0. 0. 1. 0. 0. 0. 0. 0. 0.]\n"
          ],
          "name": "stdout"
        }
      ]
    },
    {
      "cell_type": "code",
      "metadata": {
        "id": "Aq_VpOLQgi4y",
        "colab_type": "code",
        "outputId": "621c873a-fbee-4ac5-8220-e314ba58f03b",
        "colab": {
          "base_uri": "https://localhost:8080/",
          "height": 34
        }
      },
      "source": [
        "fashion_mnist_labels[3]"
      ],
      "execution_count": 0,
      "outputs": [
        {
          "output_type": "execute_result",
          "data": {
            "text/plain": [
              "'Dress'"
            ]
          },
          "metadata": {
            "tags": []
          },
          "execution_count": 27
        }
      ]
    },
    {
      "cell_type": "code",
      "metadata": {
        "id": "4hP79h2_bH-x",
        "colab_type": "code",
        "outputId": "864fd869-0f1d-437d-b161-7b6089461fd4",
        "colab": {
          "base_uri": "https://localhost:8080/",
          "height": 281
        }
      },
      "source": [
        "# visualisasi loss tiap epoch\n",
        "import matplotlib.pyplot as plt\n",
        "\n",
        "plt.title('Loss')\n",
        "plt.plot(hst.history['loss'], label='train')\n",
        "plt.plot(hst.history['val_loss'], label='validation')\n",
        "plt.legend()\n",
        "plt.show()"
      ],
      "execution_count": 0,
      "outputs": [
        {
          "output_type": "display_data",
          "data": {
            "image/png": "[encoded data removed]",
            "text/plain": [
              "<Figure size 432x288 with 1 Axes>"
            ]
          },
          "metadata": {
            "tags": []
          }
        }
      ]
    },
    {
      "cell_type": "code",
      "metadata": {
        "id": "50uwmAKrayZU",
        "colab_type": "code",
        "outputId": "529c2a22-ba4a-4def-ab4e-4a87ad676f4a",
        "colab": {
          "base_uri": "https://localhost:8080/",
          "height": 281
        }
      },
      "source": [
        "# visualisasi accuracy tiap epoch\n",
        "plt.title('Accuracy')\n",
        "plt.plot(hst.history['acc'], label='train')\n",
        "plt.plot(hst.history['val_acc'], label='validation')\n",
        "plt.legend()\n",
        "plt.show()"
      ],
      "execution_count": 0,
      "outputs": [
        {
          "output_type": "display_data",
          "data": {
            "image/png": "[encoded data removed]",
            "text/plain": [
              "<Figure size 432x288 with 1 Axes>"
            ]
          },
          "metadata": {
            "tags": []
          }
        }
      ]
    },
    {
      "cell_type": "markdown",
      "metadata": {
        "id": "cv_16LCSmPSD",
        "colab_type": "text"
      },
      "source": [
        "##References\n",
        "\n",
        "\n",
        "\n",
        "*   https://towardsdatascience.com/mnist-cnn-python-c61a5bce7a19\n",
        "*   https://medium.com/tensorflow/hello-deep-learning-fashion-mnist-with-keras-50fcff8cd74a\n",
        "*   https://machinelearningmastery.com/how-to-accelerate-learning-of-deep-neural-networks-with-batch-normalization/\n",
        "*   https://machinelearningmastery.com/learning-curves-for-diagnosing-machine-learning-model-performance/\n",
        "*   https://www.opencodez.com/python/text-classification-using-keras.htm\n"
      ]
    },
    {
      "cell_type": "code",
      "metadata": {
        "id": "4UC6FlFm8iSW",
        "colab_type": "code",
        "colab": {}
      },
      "source": [
        ""
      ],
      "execution_count": 0,
      "outputs": []
    }
  ]
}